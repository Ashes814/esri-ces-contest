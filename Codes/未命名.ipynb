{
 "cells": [
  {
   "cell_type": "code",
   "execution_count": null,
   "id": "a66f7bb1-c3d5-4515-af45-49a4f82abebd",
   "metadata": {},
   "outputs": [],
   "source": [
    "# 利用EULUC数据裁剪居民小区"
   ]
  },
  {
   "cell_type": "code",
   "execution_count": 1,
   "id": "98028b14-ce2c-4233-b0a7-fba1689f031c",
   "metadata": {
    "jupyter": {
     "source_hidden": true
    },
    "tags": []
   },
   "outputs": [
    {
     "name": "stderr",
     "output_type": "stream",
     "text": [
      "Logged warning: Duplicate provider native registered\n"
     ]
    }
   ],
   "source": [
    "# 初始化依赖包与qgis\n",
    "import os\n",
    "import numpy as np\n",
    "import pandas as pd\n",
    "\n",
    "\n",
    "import geopandas as gpd\n",
    "import matplotlib.pyplot as plt\n",
    "\n",
    "# import pyqgis\n",
    "from qgis.core import *\n",
    "\n",
    "# Supply path to qgis install location\n",
    "QgsApplication.setPrefixPath('/Applications/QGIS-LTR.app/Contents/MacOS', True)\n",
    "\n",
    "# Create a reference to the QgsApplication.  Setting the\n",
    "# second argument to False disables the GUI.\n",
    "qgs = QgsApplication([], False)\n",
    "\n",
    "# Load providers\n",
    "qgs.initQgis()\n",
    "\n",
    "# Write your code here to load some layers, use processing\n",
    "# algorithms, etc.\n",
    "\n",
    "# Finally, exitQgis() is called to remove the\n",
    "# provider and layer registries from memory\n",
    "\n",
    "\n",
    "from qgis.analysis import QgsNativeAlgorithms\n",
    "import processing\n",
    "from processing.core.Processing import Processing\n",
    "Processing.initialize()\n",
    "QgsApplication.processingRegistry().addProvider(QgsNativeAlgorithms())\n",
    "qgs.exitQgis()\n",
    "\n",
    "\n",
    "# 获取属性表的函数\n",
    "def getAttributeTable(vlayer):\n",
    "    \"\"\" get attribute table of a vector layer.\n",
    "    \n",
    "    Args:\n",
    "        vlayer : (QgsVectorLayer instance). vector layer\n",
    "\n",
    "    returns:\n",
    "         pandas DataFrame: attribute table\n",
    "    \"\"\"\n",
    "    attribute_dict={}\n",
    "    \n",
    "    for field in vlayer.fields(): # 初始化各要素属性为空列表\n",
    "        attribute_dict[field.name()] = []\n",
    "        \n",
    "    for feature in vlayer.getFeatures(): # 遍历矢量图层中个要素\n",
    "        for field in vlayer.fields(): # 遍历各属性字段\n",
    "            attribute_dict[field.name()].append(feature[field.name()]) # 添加属性字段值进入字典\n",
    "            \n",
    "            \n",
    "    return pd.DataFrame(attribute_dict) #返回DataFrame"
   ]
  },
  {
   "cell_type": "code",
   "execution_count": null,
   "id": "ad8111d1-3c33-42eb-9c06-b6c0cbc7601e",
   "metadata": {},
   "outputs": [],
   "source": [
    "input_path = '/Users/oo/Desktop/5.Learning/esri-ces-contest/Codes/input_data/sh_main'\n",
    "sh_main_town_filepath = r'{}/sh_main_town.shp'.format(input_path)\n",
    "sh_main_building_res_filepath = r'{}/sh_main_building_res.shp'.format(input_path)\n",
    "sh_aoi_price_filepath = r'{}/上海市小区和写字楼/上海市AOI数据.shp'.format(input_path)\n",
    "\n",
    "\n",
    "sh_main_town = QgsVectorLayer(sh_main_town_filepath, \"Shanghai main town\", \"ogr\")\n",
    "sh_house_price = QgsVectorLayer(sh_house_price_filepath, \"Shanghai house price\", \"ogr\")\n",
    "sh_aoi_layer = QgsVectorLayer(sh_aoi_price_filepath, \"Shanghai aoi\", \"ogr\")"
   ]
  },
  {
   "cell_type": "code",
   "execution_count": null,
   "id": "0ec79534-85d0-497e-b2d5-37e9195da776",
   "metadata": {},
   "outputs": [],
   "source": [
    "# 给"
   ]
  }
 ],
 "metadata": {
  "kernelspec": {
   "display_name": "Python 3 (ipykernel)",
   "language": "python",
   "name": "python3"
  },
  "language_info": {
   "codemirror_mode": {
    "name": "ipython",
    "version": 3
   },
   "file_extension": ".py",
   "mimetype": "text/x-python",
   "name": "python",
   "nbconvert_exporter": "python",
   "pygments_lexer": "ipython3",
   "version": "3.7.11"
  }
 },
 "nbformat": 4,
 "nbformat_minor": 5
}
